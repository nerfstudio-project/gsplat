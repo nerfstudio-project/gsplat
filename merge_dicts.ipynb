{
 "cells": [
  {
   "cell_type": "code",
   "execution_count": 16,
   "metadata": {},
   "outputs": [],
   "source": [
    "import os\n",
    "import json\n",
    "\n",
    "dict1_path = \"/secondary/home/aayushg/rl_gsplat/gsplat/src/ppo/lr_predictor/small_mipnerf_lr_losses_0.025_startlr_1000_iterations100000_points_10_trials_horns_DJI_20200223_163035_787.png.json\"\n",
    "dict2_path = \"/secondary/home/aayushg/rl_gsplat/gsplat/src/ppo/lr_predictor/small_mipnerf_lr_losses_0.035_startlr_1000_iterations100000_points_10_trials_horns_DJI_20200223_163035_787.png.json\"\n",
    "dict3_path = \"/secondary/home/aayushg/rl_gsplat/gsplat/src/ppo/lr_predictor/small_mipnerf_lr_losses_backup.json\"\n",
    "\n",
    "with open(dict1_path, \"r\") as f:\n",
    "    dict1 = json.load(f)\n",
    "\n",
    "with open(dict2_path, \"r\") as f:\n",
    "    dict2 = json.load(f)\n",
    "\n",
    "with open(dict3_path, \"r\") as f:\n",
    "    dict3 = json.load(f)"
   ]
  },
  {
   "cell_type": "code",
   "execution_count": 18,
   "metadata": {},
   "outputs": [
    {
     "data": {
      "text/plain": [
       "dict_keys(['0', '1', '2', '3', '4', '5', '6', '7', '8', '9', '10', '11', '12', '13', '14', '15', '16', '17', '18', '19', '20', '21', '22', '23', '24', '25', '26', '27', '28', '29', '30', '31'])"
      ]
     },
     "execution_count": 18,
     "metadata": {},
     "output_type": "execute_result"
    }
   ],
   "source": [
    "dict1.keys()\n",
    "dict2.keys()"
   ]
  },
  {
   "cell_type": "code",
   "execution_count": 19,
   "metadata": {},
   "outputs": [],
   "source": [
    "for img_idx in dict1.keys():\n",
    "    dict1_lr_losses = dict1[img_idx][\"lr_losses\"]\n",
    "    dict2_lr_losses = dict2[img_idx][\"lr_losses\"]4\n",
    "    for lr in dict1_lr_losses.keys():\n",
    "        dict3[img_idx][\"lr_losses\"][lr] = dict1_lr_losses[lr]\n",
    "    for lr in dict2_lr_losses.keys():\n",
    "        dict3[img_idx][\"lr_losses\"][lr] = dict2_lr_losses[lr]\n",
    "\n",
    "with open(dict3_path + \"_new_merged\", \"w\") as f:\n",
    "    json.dump(dict3, f)"
   ]
  },
  {
   "cell_type": "code",
   "execution_count": 22,
   "metadata": {},
   "outputs": [
    {
     "data": {
      "text/plain": [
       "dict_keys(['0.005', '0.006', '0.007', '0.008', '0.009', '0.01', '0.011', '0.012', '0.013', '0.014', '0.015', '0.016', '0.017', '0.018', '0.019', '0.02', '0.021', '0.022', '0.023', '0.024', '0.025', '0.026', '0.027', '0.028', '0.029', '0.03', '0.031', '0.032', '0.033', '0.034', '0.035', '0.036', '0.037', '0.038', '0.039', '0.04', '0.041', '0.042', '0.043', '0.044'])"
      ]
     },
     "execution_count": 22,
     "metadata": {},
     "output_type": "execute_result"
    }
   ],
   "source": [
    "dict3['31']['lr_losses'].keys()"
   ]
  },
  {
   "cell_type": "code",
   "execution_count": 2,
   "metadata": {},
   "outputs": [
    {
     "data": {
      "text/plain": [
       "dict_keys(['0', '1', '2', '3', '4', '5', '6', '7', '8', '9', '10', '11', '12', '13', '14', '15', '16', '17', '18'])"
      ]
     },
     "execution_count": 2,
     "metadata": {},
     "output_type": "execute_result"
    }
   ],
   "source": [
    "dict1.keys()"
   ]
  },
  {
   "cell_type": "code",
   "execution_count": 5,
   "metadata": {},
   "outputs": [
    {
     "data": {
      "text/plain": [
       "dict_keys(['lr_losses', 'img_name'])"
      ]
     },
     "execution_count": 5,
     "metadata": {},
     "output_type": "execute_result"
    }
   ],
   "source": [
    "dict1[\"0\"].keys()"
   ]
  },
  {
   "cell_type": "code",
   "execution_count": 6,
   "metadata": {},
   "outputs": [
    {
     "data": {
      "text/plain": [
       "dict_keys(['0.025', '0.026', '0.027', '0.028', '0.029', '0.03', '0.031', '0.032', '0.033', '0.034'])"
      ]
     },
     "execution_count": 6,
     "metadata": {},
     "output_type": "execute_result"
    }
   ],
   "source": [
    "dict1[\"0\"][\"lr_losses\"].keys()"
   ]
  },
  {
   "cell_type": "code",
   "execution_count": 3,
   "metadata": {},
   "outputs": [
    {
     "data": {
      "text/plain": [
       "dict_keys(['0', '1', '2', '3', '4', '5', '6', '7', '8', '9', '10', '11', '12', '13', '14', '15', '16', '17', '18'])"
      ]
     },
     "execution_count": 3,
     "metadata": {},
     "output_type": "execute_result"
    }
   ],
   "source": [
    "dict2.keys()"
   ]
  },
  {
   "cell_type": "code",
   "execution_count": 4,
   "metadata": {},
   "outputs": [
    {
     "data": {
      "text/plain": [
       "dict_keys(['0', '1', '2', '3', '4', '5', '6', '7', '8', '9', '10', '11', '12', '13', '14', '15', '16', '17', '18', '19', '20', '21', '22', '23', '24', '25', '26', '27', '28', '29', '30', '31'])"
      ]
     },
     "execution_count": 4,
     "metadata": {},
     "output_type": "execute_result"
    }
   ],
   "source": [
    "dict3.keys()"
   ]
  },
  {
   "cell_type": "code",
   "execution_count": null,
   "metadata": {},
   "outputs": [],
   "source": []
  }
 ],
 "metadata": {
  "kernelspec": {
   "display_name": "gsplat",
   "language": "python",
   "name": "python3"
  },
  "language_info": {
   "codemirror_mode": {
    "name": "ipython",
    "version": 3
   },
   "file_extension": ".py",
   "mimetype": "text/x-python",
   "name": "python",
   "nbconvert_exporter": "python",
   "pygments_lexer": "ipython3",
   "version": "3.9.7"
  }
 },
 "nbformat": 4,
 "nbformat_minor": 2
}
